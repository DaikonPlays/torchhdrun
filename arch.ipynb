{
 "cells": [
  {
   "cell_type": "code",
   "execution_count": 1,
   "metadata": {},
   "outputs": [
    {
     "name": "stderr",
     "output_type": "stream",
     "text": [
      "/Users/mikeheddes/Developer/cs299/torchhd/venv/lib/python3.9/site-packages/tqdm/auto.py:22: TqdmWarning: IProgress not found. Please update jupyter and ipywidgets. See https://ipywidgets.readthedocs.io/en/stable/user_install.html\n",
      "  from .autonotebook import tqdm as notebook_tqdm\n"
     ]
    }
   ],
   "source": [
    "from typing import List\n",
    "import torch\n",
    "from torch import Tensor"
   ]
  },
  {
   "cell_type": "code",
   "execution_count": 4,
   "metadata": {},
   "outputs": [],
   "source": [
    "def biggest_power_two(n):\n",
    "    \"\"\"Returns the biggest power of two <= n\"\"\"\n",
    "    # if n is a power of two simply return it\n",
    "    if not (n & (n - 1)):\n",
    "        return n\n",
    "\n",
    "    # else set only the most significant bit\n",
    "    return int(\"1\" + (len(bin(n)) - 3) * \"0\", 2)"
   ]
  },
  {
   "cell_type": "code",
   "execution_count": 5,
   "metadata": {},
   "outputs": [],
   "source": [
    "class VSA_Model(Tensor):\n",
    "    @classmethod\n",
    "    def random_hv(\n",
    "        cls,\n",
    "        num_embeddings: int,\n",
    "        embedding_dim: int,\n",
    "        *,\n",
    "        sparsity=0.5,\n",
    "        generator=None,\n",
    "        dtype=None,\n",
    "        device=None,\n",
    "        requires_grad=False,\n",
    "    ):\n",
    "        raise NotImplementedError\n",
    "\n",
    "    def bundle(self, other: \"VSA_Model\") -> \"VSA_Model\":\n",
    "        raise NotImplementedError\n",
    "\n",
    "    def multibundle(self) -> \"VSA_Model\":\n",
    "        if self.dim() < 2:\n",
    "            class_name = self.__class__.__name__\n",
    "            raise RuntimeError(\n",
    "                f\"{class_name} needs to have at least two dimensions for multibundle, got size: {tuple(self.shape)}\"\n",
    "            )\n",
    "\n",
    "        n = self.size(-2)\n",
    "        if n == 1:\n",
    "            return self.unsqueeze(-2)\n",
    "\n",
    "        tensors: List[VSA_Model] = torch.unbind(self, dim=-2)\n",
    "        print(type(tensors[0]))\n",
    "\n",
    "        output = tensors[0].bundle(tensors[1])\n",
    "        for i in range(2, n):\n",
    "            output = output.bundle(tensors[i])\n",
    "\n",
    "        return output\n",
    "\n",
    "    def bind(self, other: \"VSA_Model\") -> \"VSA_Model\":\n",
    "        raise NotImplementedError\n",
    "\n",
    "    def multibind(self) -> \"VSA_Model\":\n",
    "        if self.dim() < 2:\n",
    "            class_name = self.__class__.__name__\n",
    "            raise RuntimeError(\n",
    "                f\"{class_name} data needs to have at least two dimensions for multibind, got size: {tuple(self.shape)}\"\n",
    "            )\n",
    "\n",
    "        n = self.size(-2)\n",
    "        if n == 1:\n",
    "            return self.unsqueeze(-2)\n",
    "\n",
    "        tensors: List[VSA_Model] = torch.unbind(self, dim=-2)\n",
    "\n",
    "        output = tensors[0].bind(tensors[1])\n",
    "        for i in range(2, n):\n",
    "            output = output.bind(tensors[i])\n",
    "\n",
    "        return output\n",
    "\n",
    "    def permute(self, n: int = 1) -> \"VSA_Model\":\n",
    "        raise NotImplementedError\n",
    "\n",
    "\n",
    "# class MAPTensor(HyperTensor):\n",
    "#     def bundle(self, other: 'MAPTensor') -> 'MAPTensor':\n",
    "#         return self + other\n",
    "\n",
    "#     def multibundle(self) -> 'MAPTensor':\n",
    "#         return self.sum(dim=-2)\n",
    "\n",
    "#     def difference(self, other: 'MAPTensor') -> 'MAPTensor':\n",
    "#         return self - other\n",
    "\n",
    "#     def bind(self, other: 'MAPTensor') -> 'MAPTensor':\n",
    "#         return self * other\n",
    "\n",
    "#     def multibind(self) -> 'MAPTensor':\n",
    "#         return self.prod(dim=-2)\n",
    "\n",
    "#     def unbind(self, other: 'MAPTensor') -> 'MAPTensor':\n",
    "#         return self * other\n",
    "\n",
    "#     def permute(self, n: int = 1) -> 'MAPTensor':\n",
    "#         return self.roll(shifts=n, dim=-1)\n",
    "\n",
    "\n",
    "# class BSCTensor(HyperTensor):\n",
    "#     def bundle(self, other: Tensor, *, generator: torch.Generator = None) -> Tensor:\n",
    "#         tiebreaker = torch.empty_like(input)\n",
    "#         tiebreaker.bernoulli_(0.5, generator=generator)\n",
    "\n",
    "#         is_majority = self == other\n",
    "#         return self.where(is_majority, tiebreaker)\n",
    "\n",
    "#     def multibundle(self, *, generator:torch.Generator = None) -> Tensor:\n",
    "#         if self.dim() < 2:\n",
    "#             class_name = self.__class__.__name__\n",
    "#             raise RuntimeError(f\"{class_name} data needs to have at least two dimensions for multibind, got size: {tuple(self.shape)}\")\n",
    "\n",
    "#         n = self.size(-2)\n",
    "\n",
    "#         count = self.sum(dim=-2, dtype=torch.long)\n",
    "\n",
    "#         # add a tiebreaker when there are an even number of hvs\n",
    "#         if n % 2 == 0:\n",
    "#             tiebreaker = torch.empty_like(count)\n",
    "#             tiebreaker.bernoulli_(0.5, generator=generator)\n",
    "#             count += tiebreaker\n",
    "#             n += 1\n",
    "\n",
    "#         threshold = n // 2\n",
    "#         return count > threshold\n",
    "\n",
    "#     def difference(self, other: Tensor) -> Tensor:\n",
    "#         return self.logical_and(~other)\n",
    "\n",
    "#     def bind(self, other: Tensor) -> Tensor:\n",
    "#         return self.logical_xor(other)\n",
    "\n",
    "#     def multibind(self) -> Tensor:\n",
    "#         if self.dim() < 2:\n",
    "#             class_name = self.__class__.__name__\n",
    "#             raise RuntimeError(f\"{class_name} data needs to have at least two dimensions for multibind, got size: {tuple(self.shape)}\")\n",
    "\n",
    "#         n = self.size(-2)\n",
    "#         n_ = biggest_power_two(n)\n",
    "#         output = self[..., :n_, :]\n",
    "\n",
    "#         # parallelize many XORs in a hierarchical manner\n",
    "#         # for larger batches this is significantly faster\n",
    "#         while output.size(-2) > 1:\n",
    "#             output = torch.logical_xor(output[..., 0::2, :], output[..., 1::2, :])\n",
    "\n",
    "#         output = output.squeeze(-2)\n",
    "\n",
    "#         # TODO: as an optimization we could also perform the hierarchical XOR\n",
    "#         # on the leftovers in a recursive fashion\n",
    "#         leftovers = torch.unbind(self[..., n_:, :], -2)\n",
    "#         for i in range(n - n_):\n",
    "#             output = torch.logical_xor(output, leftovers[i])\n",
    "\n",
    "#         return output\n",
    "\n",
    "#     def unbind(self, other: Tensor) -> Tensor:\n",
    "#         return self.logical_xor(other)\n",
    "\n",
    "#     def permute(self, n: int = 1) -> Tensor:\n",
    "#         return self.roll(shifts=n, dim=-1)\n",
    "\n",
    "\n",
    "# if __name__ == \"__main__\":\n",
    "#     x = HyperTensor(torch.randn(2, 6))\n",
    "#     print(x)\n",
    "#     print(torch.add(x, 1))\n",
    "#     x.multibundle()\n"
   ]
  },
  {
   "cell_type": "code",
   "execution_count": 18,
   "metadata": {},
   "outputs": [
    {
     "name": "stdout",
     "output_type": "stream",
     "text": [
      "tensor([False,  True, False,  True, False]) tensor([False,  True, False, False, False])\n",
      "tensor([-1,  1,  1,  1, -1]) tensor([ 0, -2, -2, -2,  0])\n"
     ]
    }
   ],
   "source": [
    "from enum import Enum\n",
    "\n",
    "from torch import BoolTensor\n",
    "\n",
    "\n",
    "class vsa_model(Enum):\n",
    "    BSC = 1\n",
    "    MAP = 2\n",
    "    HRR = 3\n",
    "    FHRR = 4\n",
    "\n",
    "\n",
    "class BSCTensor(Tensor):\n",
    "    def bundle(self, other: 'BSCTensor', *, generator: torch.Generator = None) -> 'BSCTensor':\n",
    "        tiebreaker = torch.empty_like(self)\n",
    "        tiebreaker.bernoulli_(0.5, generator=generator)\n",
    "\n",
    "        is_majority = self == other\n",
    "        return self.where(is_majority, tiebreaker)\n",
    "\n",
    "    def bind(self, other: 'BSCTensor') -> 'BSCTensor':\n",
    "        return self.logical_xor(other)\n",
    "\n",
    "    def permute(self, n: int = 1) -> 'BSCTensor':\n",
    "        return self.roll(shifts=n, dim=-1)\n",
    "\n",
    "class MAPTensor(Tensor):\n",
    "    def bundle(self, other: 'MAPTensor') -> 'MAPTensor':\n",
    "        return self.add(other)\n",
    "\n",
    "    def bind(self, other: 'MAPTensor') -> 'MAPTensor':\n",
    "        return self.mul(other)\n",
    "\n",
    "    def permute(self, n: int = 1) -> 'MAPTensor':\n",
    "        return self.roll(shifts=n, dim=-1)\n",
    "\n",
    "\n",
    "\n",
    "def random_hv(a, b, model: vsa_model = vsa_model.BSC) -> Tensor:\n",
    "    result = torch.empty(a, b, dtype=torch.bool).bernoulli_()\n",
    "\n",
    "    if model == vsa_model.BSC:\n",
    "        return result.as_subclass(BSCTensor)\n",
    "\n",
    "    elif model == vsa_model.MAP:\n",
    "        result = torch.where(result, -1, +1)\n",
    "        return result.as_subclass(MAPTensor)\n",
    "\n",
    "    \n",
    "\n",
    "\n",
    "hv = random_hv(2, 5)\n",
    "print(hv[0].bind(hv[1]), hv[0].bundle(hv[1]))\n",
    "\n",
    "hv = random_hv(2, 5, model=vsa_model.MAP)\n",
    "print(hv[0].bind(hv[1]), hv[0].bundle(hv[1]))"
   ]
  },
  {
   "cell_type": "code",
   "execution_count": 28,
   "metadata": {},
   "outputs": [
    {
     "name": "stdout",
     "output_type": "stream",
     "text": [
      "tensor([ True, False, False, False, False]) tensor([False, False,  True, False, False])\n",
      "tensor([-1,  1,  1, -1, -1]) tensor([ 0,  2, -2,  0,  0])\n"
     ]
    }
   ],
   "source": [
    "class BSC(Tensor):\n",
    "    @classmethod\n",
    "    def random_hv(cls, n: int, d: int, dtype=torch.bool):\n",
    "        result = torch.empty(n, d, dtype=dtype)\n",
    "        result.bernoulli_()\n",
    "        return result.as_subclass(cls)\n",
    "\n",
    "    def bundle(self, other: \"BSC\", *, generator: torch.Generator = None) -> \"BSC\":\n",
    "        tiebreaker = torch.empty_like(self)\n",
    "        tiebreaker.bernoulli_(0.5, generator=generator)\n",
    "\n",
    "        is_majority = self == other\n",
    "        return self.where(is_majority, tiebreaker)\n",
    "\n",
    "    def bind(self, other: \"BSC\") -> \"BSC\":\n",
    "        return self.logical_xor(other)\n",
    "\n",
    "    def permute(self, n: int = 1) -> \"BSC\":\n",
    "        return self.roll(shifts=n, dim=-1)\n",
    "\n",
    "\n",
    "class MAP(Tensor):\n",
    "    @classmethod\n",
    "    def random_hv(cls, n: int, d: int):\n",
    "        result = torch.empty(n, d, dtype=torch.bool)\n",
    "        result.bernoulli_()\n",
    "        result = torch.where(result, -1, +1)\n",
    "        return result.as_subclass(cls)\n",
    "\n",
    "    def bundle(self, other: \"MAPTensor\") -> \"MAPTensor\":\n",
    "        return self.add(other)\n",
    "\n",
    "    def bind(self, other: \"MAPTensor\") -> \"MAPTensor\":\n",
    "        return self.mul(other)\n",
    "\n",
    "    def permute(self, n: int = 1) -> \"MAPTensor\":\n",
    "        return self.roll(shifts=n, dim=-1)\n",
    "\n",
    "\n",
    "def random_hv(*args, model=BSC) -> Tensor:\n",
    "    return model.random_hv(*args)\n",
    "\n",
    "def bundle(input, other, model=BSC) -> Tensor:\n",
    "    return input.bundle(other)\n",
    "\n",
    "\n",
    "hv = random_hv(2, 5)\n",
    "print(hv[0].bind(hv[1]), hv[0].bundle(hv[1]))\n",
    "\n",
    "hv = random_hv(2, 5, model=MAP)\n",
    "print(hv[0].bind(hv[1]), hv[0].bundle(hv[1]))\n"
   ]
  },
  {
   "cell_type": "code",
   "execution_count": 1,
   "metadata": {},
   "outputs": [
    {
     "name": "stderr",
     "output_type": "stream",
     "text": [
      "/Users/mikeheddes/Developer/cs299/torchhd/venv/lib/python3.9/site-packages/tqdm/auto.py:22: TqdmWarning: IProgress not found. Please update jupyter and ipywidgets. See https://ipywidgets.readthedocs.io/en/stable/user_install.html\n",
      "  from .autonotebook import tqdm as notebook_tqdm\n"
     ]
    },
    {
     "data": {
      "text/plain": [
       "tensor([ True, False, False, False,  True])"
      ]
     },
     "execution_count": 1,
     "metadata": {},
     "output_type": "execute_result"
    }
   ],
   "source": [
    "import torchhd, torch\n",
    "\n",
    "hv = torchhd.BSC.random_hv(3, 5)\n",
    "hv[0].bind(hv[1])"
   ]
  },
  {
   "cell_type": "code",
   "execution_count": 2,
   "metadata": {},
   "outputs": [
    {
     "data": {
      "text/plain": [
       "tensor([ 1., -1.,  1., -1., -1.])"
      ]
     },
     "execution_count": 2,
     "metadata": {},
     "output_type": "execute_result"
    }
   ],
   "source": [
    "hv = torchhd.MAP.random_hv(3, 5)\n",
    "hv[0].bind(hv[1])"
   ]
  },
  {
   "cell_type": "code",
   "execution_count": 3,
   "metadata": {},
   "outputs": [
    {
     "data": {
      "text/plain": [
       "tensor([ 0.0022,  0.0747,  0.0234, -0.0561,  0.0073])"
      ]
     },
     "execution_count": 3,
     "metadata": {},
     "output_type": "execute_result"
    }
   ],
   "source": [
    "hv = torchhd.HRR.random_hv(3, 5)\n",
    "hv[0].bind(hv[1])"
   ]
  },
  {
   "cell_type": "code",
   "execution_count": 4,
   "metadata": {},
   "outputs": [
    {
     "data": {
      "text/plain": [
       "tensor([ 0.6735-0.7391j, -0.3653-0.9309j,  0.0053-1.0000j,  0.8277+0.5612j,\n",
       "        -0.4813-0.8766j])"
      ]
     },
     "execution_count": 4,
     "metadata": {},
     "output_type": "execute_result"
    }
   ],
   "source": [
    "hv = torchhd.FHRR.random_hv(3, 5)\n",
    "hv[0].bind(hv[1])"
   ]
  },
  {
   "cell_type": "code",
   "execution_count": null,
   "metadata": {},
   "outputs": [],
   "source": []
  }
 ],
 "metadata": {
  "kernelspec": {
   "display_name": "Python 3.9.5 ('venv': venv)",
   "language": "python",
   "name": "python3"
  },
  "language_info": {
   "codemirror_mode": {
    "name": "ipython",
    "version": 3
   },
   "file_extension": ".py",
   "mimetype": "text/x-python",
   "name": "python",
   "nbconvert_exporter": "python",
   "pygments_lexer": "ipython3",
   "version": "3.9.5"
  },
  "orig_nbformat": 4,
  "vscode": {
   "interpreter": {
    "hash": "bb463a73bf6acd6b1289f4a035923a56c8c5ef67b7c98d38e38d9616828daf0a"
   }
  }
 },
 "nbformat": 4,
 "nbformat_minor": 2
}
