{
 "cells": [
  {
   "cell_type": "code",
   "execution_count": 6,
   "metadata": {},
   "outputs": [],
   "source": [
    "import torch\n",
    "import torchhd\n",
    "import torchhd.functional as HDF\n",
    "import matplotlib.pyplot as plt\n",
    "import seaborn as sns\n",
    "import pandas as pd\n",
    "plt.style.use(['science', 'nature'])"
   ]
  },
  {
   "cell_type": "code",
   "execution_count": 7,
   "metadata": {},
   "outputs": [],
   "source": [
    "def bundle(*inputs, normalize=False, auxiliary=None):\n",
    "    if auxiliary is not None:\n",
    "        inputs = list(inputs) + [auxiliary]\n",
    "\n",
    "    res = torch.vstack(inputs).sum(-2)\n",
    "\n",
    "    if normalize:\n",
    "        res = torch.where(res > 0, 1.0, -1.0)\n",
    "\n",
    "    return res"
   ]
  },
  {
   "cell_type": "code",
   "execution_count": 8,
   "metadata": {},
   "outputs": [
    {
     "data": {
      "image/png": "[encoded data removed]",
      "text/plain": [
       "<Figure size 208.8x144 with 1 Axes>"
      ]
     },
     "metadata": {
      "needs_background": "light"
     },
     "output_type": "display_data"
    }
   ],
   "source": [
    "dim = 10000\n",
    "max_bundles = 50\n",
    "bundle_step = 1\n",
    "repeats = 10\n",
    "auxiliary = HDF.random_hv(1, dim).view(dim)\n",
    "\n",
    "data = pd.DataFrame(columns=['operations', 'distance', 'type'])\n",
    "\n",
    "def distance(a, b):\n",
    "    return torchhd.functional.cosine_similarity(a, b.unsqueeze(0))\n",
    "\n",
    "index_counter = 0\n",
    "for r in range(repeats):\n",
    "    x = HDF.random_hv(max_bundles, dim)\n",
    "\n",
    "    for num_bundles in range(1, max_bundles, bundle_step):\n",
    "        results = torch.zeros(4, dim)\n",
    "        for i in range(num_bundles):\n",
    "            is_last_bundle = i == num_bundles - 1\n",
    "            results[0] = bundle(results[0], x[i], normalize=False)\n",
    "            results[1] = bundle(results[1], x[i], normalize=True)\n",
    "            results[2] = bundle(results[2], x[i], normalize=True, auxiliary=auxiliary)\n",
    "            results[3] = bundle(results[3], x[i], normalize=True, auxiliary=HDF.random_hv(1, dim).view(dim))\n",
    "\n",
    "        data.loc[index_counter] = [num_bundles, distance(results[0], results[1]).item(), \"Bias\"]\n",
    "        index_counter += 1\n",
    "        data.loc[index_counter] = [num_bundles, distance(results[0], results[2]).item(), \"Auxiliary\"]\n",
    "        index_counter += 1\n",
    "        data.loc[index_counter] = [num_bundles, distance(results[0], results[3]).item(), \"Random\"]\n",
    "        index_counter += 1\n",
    "        data.loc[index_counter] = [num_bundles, distance(results[0], results[0]).item(), \"Baseline\"]\n",
    "        index_counter += 1\n",
    "\n",
    "plt.figure(figsize=(2.9, 2.0))\n",
    "ax = sns.lineplot(x=\"operations\", y=\"distance\", hue=\"type\", data=data, palette=[\"#2659A6\", \"#04724D\", \"#F7934C\", \"#A93A30\"])\n",
    "ax.set_xlabel(\"Number of bundle operations\")\n",
    "ax.set_ylabel(\"Cosine similarity\")\n",
    "legend = plt.legend(bbox_to_anchor=(1.02, 0.5), loc=\"center left\", title=\"Tiebreaker\")\n",
    "plt.setp(legend.get_title(), fontsize=7)\n",
    "plt.savefig(\"bundle-error.pgf\")\n",
    "plt.savefig(\"bundle-error.png\", dpi=300)\n",
    "plt.show()"
   ]
  },
  {
   "cell_type": "code",
   "execution_count": null,
   "metadata": {},
   "outputs": [],
   "source": []
  }
 ],
 "metadata": {
  "interpreter": {
   "hash": "bb463a73bf6acd6b1289f4a035923a56c8c5ef67b7c98d38e38d9616828daf0a"
  },
  "kernelspec": {
   "display_name": "Python 3.9.5 ('venv': venv)",
   "language": "python",
   "name": "python3"
  },
  "language_info": {
   "codemirror_mode": {
    "name": "ipython",
    "version": 3
   },
   "file_extension": ".py",
   "mimetype": "text/x-python",
   "name": "python",
   "nbconvert_exporter": "python",
   "pygments_lexer": "ipython3",
   "version": "3.9.5"
  },
  "orig_nbformat": 4
 },
 "nbformat": 4,
 "nbformat_minor": 2
}
