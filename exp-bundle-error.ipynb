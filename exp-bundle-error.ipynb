{
 "cells": [
  {
   "cell_type": "code",
   "execution_count": 1,
   "metadata": {},
   "outputs": [
    {
     "name": "stderr",
     "output_type": "stream",
     "text": [
      "/Users/mikeheddes/Developer/cs299/hdc-lib/venv/lib/python3.9/site-packages/tqdm/auto.py:22: TqdmWarning: IProgress not found. Please update jupyter and ipywidgets. See https://ipywidgets.readthedocs.io/en/stable/user_install.html\n",
      "  from .autonotebook import tqdm as notebook_tqdm\n"
     ]
    }
   ],
   "source": [
    "import torch\n",
    "import hdc\n",
    "import hdc.functional as HDF\n",
    "import matplotlib.pyplot as plt\n",
    "import seaborn as sns\n",
    "import pandas as pd\n",
    "plt.style.use(['science', 'nature'])"
   ]
  },
  {
   "cell_type": "code",
   "execution_count": 2,
   "metadata": {},
   "outputs": [],
   "source": [
    "def bundle(*inputs, normalize=False, auxiliary=None):\n",
    "    if auxiliary is not None:\n",
    "        inputs = list(inputs) + [auxiliary]\n",
    "\n",
    "    res = torch.vstack(inputs).sum(-2)\n",
    "\n",
    "    if normalize:\n",
    "        res = torch.where(res > 0, 1.0, -1.0)\n",
    "\n",
    "    return res"
   ]
  },
  {
   "cell_type": "code",
   "execution_count": 5,
   "metadata": {},
   "outputs": [
    {
     "data": {
      "image/png": "[encoded data removed]",
      "text/plain": [
       "<Figure size 208.8x158.4 with 1 Axes>"
      ]
     },
     "metadata": {
      "needs_background": "light"
     },
     "output_type": "display_data"
    }
   ],
   "source": [
    "dim = 10000\n",
    "max_bundles = 50\n",
    "bundle_step = 1\n",
    "repeats = 10\n",
    "auxiliary = HDF.random_hv(1, dim).view(dim)\n",
    "\n",
    "data = pd.DataFrame(columns=['operations', 'distance', 'type'])\n",
    "\n",
    "def distance(a, b):\n",
    "    return (a != b).sum() / a.size(0)\n",
    "\n",
    "index_counter = 0\n",
    "for r in range(repeats):\n",
    "    x = HDF.random_hv(max_bundles, dim)\n",
    "\n",
    "    for num_bundles in range(1, max_bundles, bundle_step):\n",
    "        results = torch.zeros(4, dim)\n",
    "        for i in range(num_bundles):\n",
    "            is_last_bundle = i == num_bundles - 1\n",
    "            results[0] = bundle(results[0], x[i], normalize=is_last_bundle)\n",
    "            results[1] = bundle(results[1], x[i], normalize=True)\n",
    "            results[2] = bundle(results[2], x[i], normalize=True, auxiliary=auxiliary)\n",
    "            results[3] = bundle(results[3], x[i], normalize=True, auxiliary=HDF.random_hv(1, dim).view(dim))\n",
    "\n",
    "        data.loc[index_counter] = [num_bundles, distance(results[0], results[1]).item(), \"Bias\"]\n",
    "        index_counter += 1\n",
    "        data.loc[index_counter] = [num_bundles, distance(results[0], results[2]).item(), \"Auxiliary\"]\n",
    "        index_counter += 1\n",
    "        data.loc[index_counter] = [num_bundles, distance(results[0], results[3]).item(), \"Random\"]\n",
    "        index_counter += 1\n",
    "\n",
    "plt.figure(figsize=(2.9, 2.2))\n",
    "ax = sns.lineplot(x=\"operations\", y=\"distance\", hue=\"type\", data=data)\n",
    "ax.set_xlabel(\"Number of bundle operations\")\n",
    "ax.set_ylabel(\"Normalized Hamming distance\")\n",
    "plt.legend(bbox_to_anchor=(1.02, 0.5), loc=\"center left\", title=\"Tiebreaker\")\n",
    "plt.savefig(\"bundle-error.pgf\")\n",
    "plt.savefig(\"bundle-error.png\", dpi=300)\n",
    "plt.show()"
   ]
  },
  {
   "cell_type": "code",
   "execution_count": null,
   "metadata": {},
   "outputs": [],
   "source": []
  }
 ],
 "metadata": {
  "interpreter": {
   "hash": "f2e4e6401f3d4ddebc7dd69c04690250c2a41114e7e2be75a0bc49d79a431a6e"
  },
  "kernelspec": {
   "display_name": "Python 3.9.5 ('venv': venv)",
   "language": "python",
   "name": "python3"
  },
  "language_info": {
   "codemirror_mode": {
    "name": "ipython",
    "version": 3
   },
   "file_extension": ".py",
   "mimetype": "text/x-python",
   "name": "python",
   "nbconvert_exporter": "python",
   "pygments_lexer": "ipython3",
   "version": "3.9.5"
  },
  "orig_nbformat": 4
 },
 "nbformat": 4,
 "nbformat_minor": 2
}
